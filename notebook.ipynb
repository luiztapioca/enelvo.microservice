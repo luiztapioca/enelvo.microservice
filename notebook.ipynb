{
 "cells": [
  {
   "cell_type": "markdown",
   "id": "54dd85ca",
   "metadata": {},
   "source": [
    "## BERTimbau\n",
    "\n",
    "- Treinando modelo para classificação de sentimentos."
   ]
  },
  {
   "cell_type": "code",
   "execution_count": null,
   "id": "afbc1fdf",
   "metadata": {
    "vscode": {
     "languageId": "plaintext"
    }
   },
   "outputs": [],
   "source": []
  }
 ],
 "metadata": {
  "language_info": {
   "name": "python"
  }
 },
 "nbformat": 4,
 "nbformat_minor": 5
}
